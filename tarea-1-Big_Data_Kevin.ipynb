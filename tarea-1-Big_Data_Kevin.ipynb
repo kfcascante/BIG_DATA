{
 "cells": [
  {
   "cell_type": "markdown",
   "metadata": {},
   "source": [
    "# Tarea 1 BIG DATA"
   ]
  },
  {
   "cell_type": "markdown",
   "metadata": {},
   "source": [
    "## Kevin Fallas  Cascante"
   ]
  },
  {
   "cell_type": "code",
   "execution_count": 1,
   "metadata": {},
   "outputs": [],
   "source": [
    "from pyspark.sql import SparkSession\n",
    "\n",
    "spark=SparkSession.builder.appName('data_processing').getOrCreate()\n",
    "\n",
    "import pyspark.sql.functions as F\n",
    "from pyspark.sql.types import *"
   ]
  },
  {
   "cell_type": "markdown",
   "metadata": {},
   "source": [
    "Nombre de la estructura o base de datos dentro del appName"
   ]
  },
  {
   "cell_type": "code",
   "execution_count": 86,
   "metadata": {},
   "outputs": [],
   "source": [
    "df = spark.read.csv('nutricar_FACTURA.csv',header=True, inferSchema = True)"
   ]
  },
  {
   "cell_type": "code",
   "execution_count": 87,
   "metadata": {},
   "outputs": [],
   "source": [
    "import findspark\n",
    "findspark.init('C:\\Spark\\spark-2.4.4-bin-hadoop2.7')\n",
    "\n",
    "from datetime import datetime\n",
    "from pyspark.sql import SparkSession\n",
    "from pyspark.sql.functions import col, date_format, udf \n",
    "from pyspark.sql.types import DateType\n",
    "\n"
   ]
  },
  {
   "cell_type": "code",
   "execution_count": 88,
   "metadata": {},
   "outputs": [
    {
     "data": {
      "text/plain": [
       "10"
      ]
     },
     "execution_count": 88,
     "metadata": {},
     "output_type": "execute_result"
    }
   ],
   "source": [
    "len(df.columns)"
   ]
  },
  {
   "cell_type": "code",
   "execution_count": 89,
   "metadata": {},
   "outputs": [
    {
     "name": "stdout",
     "output_type": "stream",
     "text": [
      "root\n",
      " |-- TIPO_DOCUMENTO: string (nullable = true)\n",
      " |-- FACTURA: long (nullable = true)\n",
      " |-- FECHA: string (nullable = true)\n",
      " |-- RUBRO1: string (nullable = true)\n",
      " |-- MONEDA_FACTURA: string (nullable = true)\n",
      " |-- CLIENTE: integer (nullable = true)\n",
      " |-- PEDIDO: string (nullable = true)\n",
      " |-- TOTAL_FACTURA: double (nullable = true)\n",
      " |-- EMBARCAR_A: string (nullable = true)\n",
      " |-- TOTAL_UNIDADES: integer (nullable = true)\n",
      "\n"
     ]
    }
   ],
   "source": [
    "df.printSchema()"
   ]
  },
  {
   "cell_type": "code",
   "execution_count": 90,
   "metadata": {},
   "outputs": [
    {
     "name": "stdout",
     "output_type": "stream",
     "text": [
      "+--------------+------------------+---------+------+--------------+-------+----------+-------------+--------------------+--------------+\n",
      "|TIPO_DOCUMENTO|           FACTURA|    FECHA|RUBRO1|MONEDA_FACTURA|CLIENTE|    PEDIDO|TOTAL_FACTURA|          EMBARCAR_A|TOTAL_UNIDADES|\n",
      "+--------------+------------------+---------+------+--------------+-------+----------+-------------+--------------------+--------------+\n",
      "|             F|100001010000015960|01-oct-19|  null|             L|    675|PES-002343|      42750.0|Hospital La Cat�lica|             5|\n",
      "|             F|100001010000015961|01-oct-19|  null|             L|   2623|PED-105730|     106199.2|Centro Radiol�gic...|            40|\n",
      "|             F|100001010000015962|01-oct-19|  null|             L|    825|PED-105729|     764032.5|Asociacion Costar...|            90|\n",
      "+--------------+------------------+---------+------+--------------+-------+----------+-------------+--------------------+--------------+\n",
      "only showing top 3 rows\n",
      "\n"
     ]
    }
   ],
   "source": [
    "df.show(3)"
   ]
  },
  {
   "cell_type": "code",
   "execution_count": 91,
   "metadata": {},
   "outputs": [
    {
     "name": "stdout",
     "output_type": "stream",
     "text": [
      "+--------------+------------------+---------+------------------+--------------+-------+----------+-------------+--------------------+--------------+\n",
      "|TIPO_DOCUMENTO|           FACTURA|    FECHA|            RUBRO1|MONEDA_FACTURA|CLIENTE|    PEDIDO|TOTAL_FACTURA|          EMBARCAR_A|TOTAL_UNIDADES|\n",
      "+--------------+------------------+---------+------------------+--------------+-------+----------+-------------+--------------------+--------------+\n",
      "|             F|100001010000015960|01-oct-19|              null|             L|    675|PES-002343|      42750.0|Hospital La Cat�lica|             5|\n",
      "|             F|100001010000015961|01-oct-19|              null|             L|   2623|PED-105730|     106199.2|Centro Radiol�gic...|            40|\n",
      "|             F|100001010000015962|01-oct-19|              null|             L|    825|PED-105729|     764032.5|Asociacion Costar...|            90|\n",
      "|             F|100001010000015963|01-oct-19|2017LA-000111-2102|             D|     59|RP-0000684|       2801.6|HOSPITAL SAN JUAN...|           160|\n",
      "|             F|100001010000015964|01-oct-19|2017LA-000001-2102|             D|     59|RP-0000683|     3023.856|HOSPITAL SAN JUAN...|           144|\n",
      "|             F|100001010000015965|01-oct-19|2016CD-000388-2102|             D|     59|RP-0000685|   7439.71008|HOSPITAL SAN JUAN...|           264|\n",
      "|             F|100001010000015966|01-oct-19|2018CD-000057-2306|             D|     52|PES-002344|       3134.0|HOSPITAL MAX PERALTA|             2|\n",
      "|             F|100001010000015967|01-oct-19|              null|             D|   2900|PED-105624|       4870.0|SIEMENS HEALTHCAR...|            10|\n",
      "|             F|100001010000015968|01-oct-19|              null|             D|    670|PES-002342|      9084.12|Hospital San Jos�...|             5|\n",
      "|             F|100001010000015969|01-oct-19|              null|             L|    239|PED-105736|     28513.87|Farmacia Monte de...|             2|\n",
      "|             F|100001010000015970|01-oct-19|              null|             L|    887|PED-105737|    613160.94|Instituto Centroa...|           112|\n",
      "|             F|100001010000015971|01-oct-19|              null|             L|    199|PED-105738|     36826.59|       Farmacia Asis|             6|\n",
      "|             F|100001010000015972|01-oct-19|              null|             L|   2310|PED-105739|     30092.97|Farma Value Costa...|             1|\n",
      "|             F|100001010000015973|01-oct-19|              null|             L|    675|PED-105735|    111492.16|Hospital La Cat�lica|             8|\n",
      "|             D|100001030000002113|01-oct-19|              null|             L|    817|PED-105710|      2222.05|Farmavox Int. S.A...|             1|\n",
      "|             F|100001010000015974|01-oct-19|              null|             D|    670|PED-105740|       1590.0|Hospital San Jos�...|             5|\n",
      "|             F|100001010000015975|01-oct-19|              null|             L|    641|PED-105743|     38268.08|     Farmacia Zamora|             4|\n",
      "|             F|100001010000015976|01-oct-19|2016CD-000288-2103|             D|     55|PES-002334|       1250.0|HOSPITAL NACIONAL...|             5|\n",
      "|             F|100001010000015977|01-oct-19|2015LA-000053-2103|             D|     55|PES-002335|        840.0|HOSPITAL NACIONAL...|             4|\n",
      "|             F|100001010000015978|01-oct-19|2018CD-000446-2103|             D|     55|PES-002336|       1410.0|HOSPITAL NACIONAL...|            15|\n",
      "+--------------+------------------+---------+------------------+--------------+-------+----------+-------------+--------------------+--------------+\n",
      "only showing top 20 rows\n",
      "\n"
     ]
    }
   ],
   "source": [
    "df.show()"
   ]
  },
  {
   "cell_type": "code",
   "execution_count": 92,
   "metadata": {},
   "outputs": [
    {
     "name": "stdout",
     "output_type": "stream",
     "text": [
      "+-------+--------------+--------------------+---------+------------------+--------------+------------------+----------+------------------+--------------------+-----------------+\n",
      "|summary|TIPO_DOCUMENTO|             FACTURA|    FECHA|            RUBRO1|MONEDA_FACTURA|           CLIENTE|    PEDIDO|     TOTAL_FACTURA|          EMBARCAR_A|   TOTAL_UNIDADES|\n",
      "+-------+--------------+--------------------+---------+------------------+--------------+------------------+----------+------------------+--------------------+-----------------+\n",
      "|  count|           974|                 974|      974|               533|           974|               974|       974|               974|                 974|              974|\n",
      "|   mean|          null|1.000010110061772...|     null|              null|          null| 743.0862422997947|      null|179513.38287427102|                null|489.2977412731006|\n",
      "| stddev|          null| 4.373838003476045E9|     null|              null|          null|1083.9221114239526|      null|1132475.6032207585|                null|8917.892583635045|\n",
      "|    min|             D|  100001010000015960|01-oct-19|2012LN-000004-2104|             D|                 7|PEC-013013|              30.0|ABRAHAMS INSUMOS ...|                1|\n",
      "|    25%|          null|  100001010000016208|     null|              null|          null|                53|      null|             696.0|                null|                2|\n",
      "|    50%|          null|  100001010000016448|     null|              null|          null|                59|      null|            3842.0|                null|                5|\n",
      "|    75%|          null|  100001010000016688|     null|              null|          null|               756|      null|          58965.17|                null|               20|\n",
      "|    max|             F|  100001030000002216|30-oct-19|               Ref|             L|              3165|RP-0000795|     2.769985399E7|      WEIZHEN HE CEN|           254000|\n",
      "+-------+--------------+--------------------+---------+------------------+--------------+------------------+----------+------------------+--------------------+-----------------+\n",
      "\n"
     ]
    }
   ],
   "source": [
    "df.summary().show()"
   ]
  },
  {
   "cell_type": "code",
   "execution_count": 93,
   "metadata": {},
   "outputs": [
    {
     "name": "stdout",
     "output_type": "stream",
     "text": [
      "+--------------+-------------+\n",
      "|TIPO_DOCUMENTO|TOTAL_FACTURA|\n",
      "+--------------+-------------+\n",
      "|             F|      42750.0|\n",
      "|             F|     106199.2|\n",
      "|             F|     764032.5|\n",
      "|             F|       2801.6|\n",
      "|             F|     3023.856|\n",
      "|             F|   7439.71008|\n",
      "|             F|       3134.0|\n",
      "|             F|       4870.0|\n",
      "|             F|      9084.12|\n",
      "|             F|     28513.87|\n",
      "|             F|    613160.94|\n",
      "|             F|     36826.59|\n",
      "|             F|     30092.97|\n",
      "|             F|    111492.16|\n",
      "|             D|      2222.05|\n",
      "|             F|       1590.0|\n",
      "|             F|     38268.08|\n",
      "|             F|       1250.0|\n",
      "|             F|        840.0|\n",
      "|             F|       1410.0|\n",
      "+--------------+-------------+\n",
      "only showing top 20 rows\n",
      "\n"
     ]
    }
   ],
   "source": [
    "df.select(['TIPO_DOCUMENTO','TOTAL_FACTURA']).show()"
   ]
  },
  {
   "cell_type": "code",
   "execution_count": 94,
   "metadata": {},
   "outputs": [
    {
     "name": "stdout",
     "output_type": "stream",
     "text": [
      "+--------------+-------------+\n",
      "|TIPO_DOCUMENTO|TOTAL_FACTURA|\n",
      "+--------------+-------------+\n",
      "|             F|      42750.0|\n",
      "|             F|     106199.2|\n",
      "|             F|     764032.5|\n",
      "|             F|       2801.6|\n",
      "|             F|     3023.856|\n",
      "+--------------+-------------+\n",
      "only showing top 5 rows\n",
      "\n"
     ]
    }
   ],
   "source": [
    "df.select(['TIPO_DOCUMENTO','TOTAL_FACTURA']).show(5)"
   ]
  },
  {
   "cell_type": "code",
   "execution_count": 95,
   "metadata": {},
   "outputs": [
    {
     "name": "stdout",
     "output_type": "stream",
     "text": [
      "+--------------+------------------+---------+------+--------------+-------+----------+-------------+--------------------+--------------+\n",
      "|TIPO_DOCUMENTO|           FACTURA|    FECHA|RUBRO1|MONEDA_FACTURA|CLIENTE|    PEDIDO|TOTAL_FACTURA|          EMBARCAR_A|TOTAL_UNIDADES|\n",
      "+--------------+------------------+---------+------+--------------+-------+----------+-------------+--------------------+--------------+\n",
      "|             F|100001010000016021|02-oct-19|  null|             L|   2762|PED-105766|   1659522.43|Farma Value Costa...|           113|\n",
      "|             F|100001010000016045|03-oct-19|  null|             L|    675|PED-105785|    8177124.4|Hospital La Cat�lica|          1992|\n",
      "|             F|100001010000016101|07-oct-19|  null|             L|   2962|PED-105834|   2151351.36|Corporaci�n de Se...|             2|\n",
      "|             F|100001010000016103|07-oct-19|  null|             L|     97|PED-105816| 1.46950709E7|Cefa Central Farm...|          2286|\n",
      "|             F|100001010000016113|07-oct-19|  null|             L|   3145|PED-105808|    3537264.0|          PRICESMART|           396|\n",
      "|             F|100001010000016114|07-oct-19|  null|             L|   2762|PED-105838|   2254828.72|Farma Value Costa...|           181|\n",
      "|             F|100001010000016122|07-oct-19|  null|             L|   2950|PED-105734|   7659805.71|Pharma Punto Net ...|          1053|\n",
      "|             F|100001010000016127|08-oct-19|  null|             L|    317|PED-105840|    1027245.0|Farmacia Especial...|           300|\n",
      "|             F|100001010000016139|08-oct-19|  null|             L|    887|PED-105856|   1485968.39|Instituto Centroa...|           215|\n",
      "|             F|100001010000016183|09-oct-19|  null|             L|   2762|PED-105872|    2652224.4|Farma Value Costa...|           261|\n",
      "|             F|100001010000016189|10-oct-19|  null|             L|   2970|PED-105829|   1517578.74|Corporaci�n de Su...|           434|\n",
      "|             F|100001010000016200|10-oct-19|  null|             L|   2970|PED-105853|    1568655.9|Corporaci�n de Su...|           202|\n",
      "|             F|100001010000016205|10-oct-19|  null|             L|   3105|PED-105900|   1035973.96|      FARMACIAS SABA|            90|\n",
      "|             F|100001010000016263|11-oct-19|  null|             L|   2762|PED-105909|    1105509.7|Farma Value Costa...|           136|\n",
      "|             F|100001010000016295|11-oct-19|  null|             L|   3003|PED-105887|2.769985399E7|   Farmacia la Bomba|          3512|\n",
      "|             F|100001010000016311|14-oct-19|  null|             L|   2762|PED-105930|   1981854.32|Farma Value Costa...|           152|\n",
      "|             D|100001030000002169|15-oct-19|  null|             L|   3145|PED-105699|    2753144.0|          PRICESMART|           316|\n",
      "|             D|100001030000002175|16-oct-19|  null|             L|   3145|PED-105808|    2787408.0|          PRICESMART|           320|\n",
      "|             F|100001010000016410|16-oct-19|  null|             L|   2762|PED-105966|   3447633.36|Farma Value Costa...|           522|\n",
      "|             F|100001010000016414|16-oct-19|  null|             L|   2600|PED-105952|    1028349.5|Auto Mercado, S.A...|           400|\n",
      "+--------------+------------------+---------+------+--------------+-------+----------+-------------+--------------------+--------------+\n",
      "only showing top 20 rows\n",
      "\n"
     ]
    }
   ],
   "source": [
    "df.filter(df['TOTAL_FACTURA'] > 1000000).show()"
   ]
  },
  {
   "cell_type": "code",
   "execution_count": 96,
   "metadata": {},
   "outputs": [
    {
     "data": {
      "text/plain": [
       "33"
      ]
     },
     "execution_count": 96,
     "metadata": {},
     "output_type": "execute_result"
    }
   ],
   "source": [
    "df.filter(df['TOTAL_FACTURA'] > 1000000).count()"
   ]
  },
  {
   "cell_type": "code",
   "execution_count": 97,
   "metadata": {},
   "outputs": [
    {
     "data": {
      "text/plain": [
       "48"
      ]
     },
     "execution_count": 97,
     "metadata": {},
     "output_type": "execute_result"
    }
   ],
   "source": [
    "df.filter(df['TOTAL_FACTURA'] > 500000).filter(df['TOTAL_UNIDADES'] > 100).count()"
   ]
  },
  {
   "cell_type": "code",
   "execution_count": 98,
   "metadata": {},
   "outputs": [
    {
     "data": {
      "text/plain": [
       "28"
      ]
     },
     "execution_count": 98,
     "metadata": {},
     "output_type": "execute_result"
    }
   ],
   "source": [
    "df.where((df['TOTAL_FACTURA'] > 500000) & (df['TOTAL_UNIDADES'] > 150)).count()"
   ]
  },
  {
   "cell_type": "code",
   "execution_count": 99,
   "metadata": {},
   "outputs": [
    {
     "data": {
      "text/plain": [
       "105"
      ]
     },
     "execution_count": 99,
     "metadata": {},
     "output_type": "execute_result"
    }
   ],
   "source": [
    "df.filter((df['TOTAL_FACTURA'] > 500000) | (df['TOTAL_UNIDADES'] > 200)).count()"
   ]
  },
  {
   "cell_type": "code",
   "execution_count": 100,
   "metadata": {},
   "outputs": [
    {
     "name": "stdout",
     "output_type": "stream",
     "text": [
      "+-------+-----+\n",
      "|CLIENTE|count|\n",
      "+-------+-----+\n",
      "|    833|    1|\n",
      "|    496|    3|\n",
      "|    137|    5|\n",
      "|     53|  158|\n",
      "|   2559|    1|\n",
      "|   3105|    3|\n",
      "|    513|    2|\n",
      "|   3149|    1|\n",
      "|   3087|    6|\n",
      "|    108|    1|\n",
      "|    683|    1|\n",
      "|   3152|    2|\n",
      "|    756|   20|\n",
      "|   3043|    2|\n",
      "|    183|    1|\n",
      "|   2683|    3|\n",
      "|   2583|    1|\n",
      "|   3151|    1|\n",
      "|   2962|    1|\n",
      "|    842|    2|\n",
      "+-------+-----+\n",
      "only showing top 20 rows\n",
      "\n"
     ]
    }
   ],
   "source": [
    "df.groupBy('CLIENTE').count().show()"
   ]
  },
  {
   "cell_type": "code",
   "execution_count": 101,
   "metadata": {},
   "outputs": [
    {
     "name": "stdout",
     "output_type": "stream",
     "text": [
      "+--------------------+------------------+\n",
      "|          EMBARCAR_A|avg(TOTAL_FACTURA)|\n",
      "+--------------------+------------------+\n",
      "|HOSPITAL NACIONAL...|1535.3457142857144|\n",
      "|Farmacia Bazzano ...|24916.635000000002|\n",
      "| Farmacia San Mart�n|         222306.03|\n",
      "|Farmacia de Valve...|         102406.08|\n",
      "|          PRICESMART|3025938.6666666665|\n",
      "|  Farmacias Prosalud|          26156.09|\n",
      "| LA FARMA TRES RIOS.|          79656.32|\n",
      "|  Farmacia El Caribe|         125896.91|\n",
      "|HOSPITAL ROBERTO ...|         532.68456|\n",
      "|Farmacia San Anto...|          81563.68|\n",
      "|AREA DE SALUD DE ...|              46.0|\n",
      "|         Uro Lap S.A|            1530.0|\n",
      "|DICA CLEAN SOCIED...|          296667.6|\n",
      "| Farmacia Valenciano|          31387.32|\n",
      "|Botica Nueva Desa...|          17217.04|\n",
      "|   VETERINARIA MONGE|          10221.61|\n",
      "|Clinica Medica Qu...|          339637.0|\n",
      "|Farmacia Santa Ca...|126389.48499999999|\n",
      "|Farmacia Especial...|        324261.985|\n",
      "|EDUARDO NU�EZ MARCOS|            1990.0|\n",
      "+--------------------+------------------+\n",
      "only showing top 20 rows\n",
      "\n"
     ]
    }
   ],
   "source": [
    "df.groupBy('EMBARCAR_A').agg(F.mean('TOTAL_FACTURA')).show()"
   ]
  },
  {
   "cell_type": "markdown",
   "metadata": {},
   "source": [
    "# Con esta funcion se va a programa SQL Query de la información de la tabla factura, donde podemos obtener la columna facturay el total factura del cliente 00059 con total mayor a 2000 "
   ]
  },
  {
   "cell_type": "code",
   "execution_count": 102,
   "metadata": {},
   "outputs": [
    {
     "name": "stdout",
     "output_type": "stream",
     "text": [
      "+------------------+-------------+\n",
      "|           factura|total_factura|\n",
      "+------------------+-------------+\n",
      "|100001010000015963|       2801.6|\n",
      "|100001010000015964|     3023.856|\n",
      "|100001010000015965|   7439.71008|\n",
      "|100001010000016050|       7245.0|\n",
      "|100001010000016062|       5700.0|\n",
      "|100001010000016079|      26000.0|\n",
      "|100001010000016214|       3971.0|\n",
      "|100001010000016259|       3221.0|\n",
      "|100001010000016353|     2771.868|\n",
      "|100001010000016355|   5410.69824|\n",
      "|100001010000016371|       2702.0|\n",
      "|100001010000016374|       2394.0|\n",
      "|100001010000016418|       4800.0|\n",
      "|100001030000002176|       4800.0|\n",
      "|100001010000016420|       4800.0|\n",
      "|100001030000002178|       4800.0|\n",
      "|100001010000016431|       4800.0|\n",
      "|100001010000016450|       3489.0|\n",
      "|100001010000016455|       2005.0|\n",
      "|100001010000016462|       2726.0|\n",
      "|100001010000016620|       7459.0|\n",
      "|100001010000016622|       3572.0|\n",
      "|100001010000016633|       4800.0|\n",
      "|100001010000016703|       5687.0|\n",
      "|100001010000016705|       2043.0|\n",
      "|100001010000016723|    3381.6864|\n",
      "|100001010000016725|      10592.0|\n",
      "+------------------+-------------+\n",
      "\n"
     ]
    }
   ],
   "source": [
    "\n",
    "df.createOrReplaceTempView(\"df\")\n",
    "\n",
    "sqlDF = spark.sql(\"SELECT factura, total_factura FROM df where cliente = 00059 and total_factura > 2000\")\n",
    "sqlDF.show(100)"
   ]
  },
  {
   "cell_type": "markdown",
   "metadata": {},
   "source": [
    "# Se saca el promedio del total de las facturas del cliente 00059 y adicional la factura maxima de este cliente"
   ]
  },
  {
   "cell_type": "code",
   "execution_count": 103,
   "metadata": {},
   "outputs": [
    {
     "name": "stdout",
     "output_type": "stream",
     "text": [
      "+------------------+\n",
      "|avg(total_factura)|\n",
      "+------------------+\n",
      "| 5275.385878518518|\n",
      "+------------------+\n",
      "\n"
     ]
    }
   ],
   "source": [
    "sqlDF = spark.sql(\"SELECT avg(total_factura) FROM df where cliente = 00059 and total_factura > 2000\")\n",
    "sqlDF.show(100)"
   ]
  },
  {
   "cell_type": "code",
   "execution_count": 104,
   "metadata": {},
   "outputs": [
    {
     "name": "stdout",
     "output_type": "stream",
     "text": [
      "+------------------+\n",
      "|max(total_factura)|\n",
      "+------------------+\n",
      "|           26000.0|\n",
      "+------------------+\n",
      "\n"
     ]
    }
   ],
   "source": [
    "sqlDF = spark.sql(\"SELECT max(total_factura) FROM df where cliente = 00059 and total_factura > 2000\")\n",
    "sqlDF.show(100)"
   ]
  },
  {
   "cell_type": "markdown",
   "metadata": {},
   "source": [
    "# se logra sacar la mayor venta por cliente y maximo total factura por cliente de los primeros 100 clientes."
   ]
  },
  {
   "cell_type": "code",
   "execution_count": 106,
   "metadata": {},
   "outputs": [
    {
     "name": "stdout",
     "output_type": "stream",
     "text": [
      "+------------+--------------------+------------------+\n",
      "|max(cliente)|     max(EMBARCAR_A)|max(total_factura)|\n",
      "+------------+--------------------+------------------+\n",
      "|        3003|   Farmacia la Bomba|     2.769985399E7|\n",
      "|          97|Cefa Central Farm...|      1.46950709E7|\n",
      "|         675|Hospital La Cat�lica|         8177124.4|\n",
      "|        2950|Pharma Punto Net ...|        7659805.71|\n",
      "|        2950|Pharma Punto Net ...|        4192366.39|\n",
      "|        2950|Pharma Punto Net ...|        4097416.13|\n",
      "|        3145|          PRICESMART|         3537264.0|\n",
      "|        2762|Farma Value Costa...|        3500276.33|\n",
      "|        2762|Farma Value Costa...|        3447633.36|\n",
      "|        3145|          PRICESMART|         2787408.0|\n",
      "|        3145|          PRICESMART|         2753144.0|\n",
      "|        2762|Farma Value Costa...|         2652224.4|\n",
      "|        2762|Farma Value Costa...|        2386565.29|\n",
      "|        2762|Farma Value Costa...|        2254828.72|\n",
      "|         842|Asociacion Benefi...|        2156857.57|\n",
      "|        2962|Corporaci�n de Se...|        2151351.36|\n",
      "|        2762|Farma Value Costa...|        2056578.12|\n",
      "|        2762|Farma Value Costa...|        1981854.32|\n",
      "|        2762|Farma Value Costa...|        1659522.43|\n",
      "|        2970|Corporaci�n de Su...|         1568655.9|\n",
      "|        2970|Corporaci�n de Su...|        1517578.74|\n",
      "|         887|Instituto Centroa...|        1485968.39|\n",
      "|        2970|Corporaci�n de Su...|        1454929.94|\n",
      "|        2964|Asociaci�n Centro...|         1436314.6|\n",
      "|        2812|Asociaci�n Cl�nic...|         1403773.3|\n",
      "|         675|Hospital La Cat�lica|         1376230.4|\n",
      "|        2970|Corporaci�n de Su...|        1349384.38|\n",
      "|         513|     Farmacia Ruisan|         1184604.2|\n",
      "|        2762|Farma Value Costa...|         1105509.7|\n",
      "|        2970|Corporaci�n de Su...|         1043069.8|\n",
      "|        3105|      FARMACIAS SABA|        1035973.96|\n",
      "|        2600|Auto Mercado, S.A...|         1028349.5|\n",
      "|         317|Farmacia Especial...|         1027245.0|\n",
      "|         675|Hospital La Cat�lica|          984180.8|\n",
      "|        3105|      FARMACIAS SABA|         967321.65|\n",
      "|        2816|       Healthy Store|         839481.37|\n",
      "|         317|Farmacia Especial...|          833702.5|\n",
      "|        2762|Farma Value Costa...|         798243.48|\n",
      "|         887|Instituto Centroa...|          791687.5|\n",
      "|         825|Asociacion Costar...|          764032.5|\n",
      "|        2816|       Healthy Store|         760883.73|\n",
      "|        2101|Hacienda Agroindu...|          748480.0|\n",
      "|        2600|Auto Mercado, S.A...|         736100.54|\n",
      "|        2950|Pharma Punto Net ...|         720350.59|\n",
      "|         317|Farmacia Especial...|          684830.0|\n",
      "|         317|Farmacia Especial...|          678960.0|\n",
      "|        2762|Farma Value Costa...|          648769.0|\n",
      "|         675|Hospital La Cat�lica|         625989.76|\n",
      "|         887|Instituto Centroa...|         613160.94|\n",
      "|        2970|Corporaci�n de Su...|         609887.81|\n",
      "|        2970|Corporaci�n de Su...|         608287.22|\n",
      "|          95|CAJA COSTARRICENS...|          600600.0|\n",
      "|         670|Hospital San Jos�...|         599871.94|\n",
      "|         887|Instituto Centroa...|         594707.02|\n",
      "|         670|Hospital San Jos�...|         582014.44|\n",
      "|        2970|Corporaci�n de Su...|         560568.92|\n",
      "|        2970|Corporaci�n de Su...|         556166.97|\n",
      "|         670|Hospital San Jos�...|         554563.51|\n",
      "|        2816|       Healthy Store|         550654.65|\n",
      "|         756|Farmacia La Arboleda|         546147.55|\n",
      "|        2600|Auto Mercado, S.A...|         536579.34|\n",
      "|         278|ANDRECEL ( Farmac...|         528754.86|\n",
      "|         670|Hospital San Jos�...|         526397.02|\n",
      "|          13|Asociaci�n Cartag...|          525572.7|\n",
      "|        3043|               CIMCA|         508763.22|\n",
      "|        2991|Asociaci�n Hogar ...|         503260.95|\n",
      "|         670|Hospital San Jos�...|         502424.32|\n",
      "|        2777|Cl�nica Universal...|          501840.0|\n",
      "|         317|Farmacia Especial...|          491893.6|\n",
      "|        3105|      FARMACIAS SABA|         486429.87|\n",
      "|         887|Instituto Centroa...|         434607.34|\n",
      "|        3070|CENTRO MEDICO SAN...|          411625.0|\n",
      "|         670|Hospital San Jos�...|         407628.72|\n",
      "|        2762|Farma Value Costa...|         405105.04|\n",
      "|         670|Hospital San Jos�...|          391768.2|\n",
      "|         670|Hospital San Jos�...|          388502.6|\n",
      "|        2665|Asociaci�n San Vi...|         382173.51|\n",
      "|        2600|Auto Mercado, S.A...|         381386.18|\n",
      "|          49|HOSPITAL ENRIQUE ...|          380250.0|\n",
      "|        2908|AREA DE SALUD DE ...|          378000.0|\n",
      "|         127|Clinica Medica Qu...|          339637.0|\n",
      "|         675|Hospital La Cat�lica|         336160.58|\n",
      "|         317|Farmacia Especial...|          335687.9|\n",
      "|          43|HOSPITAL DE GUAPILES|          323120.0|\n",
      "|         887|Instituto Centroa...|         296884.59|\n",
      "|        3091|DICA CLEAN SOCIED...|          296667.6|\n",
      "|         675|Hospital La Cat�lica|         294430.28|\n",
      "|         756|Farmacia La Arboleda|          288595.6|\n",
      "|         137|Comercial Farmace...|          281077.3|\n",
      "|        3070|CENTRO MEDICO SAN...|          278730.4|\n",
      "|         513|     Farmacia Ruisan|          278730.4|\n",
      "|        3107|UNIDAD DE QUIMIOT...|         278533.08|\n",
      "|         317|Farmacia Especial...|         277900.83|\n",
      "|        2777|Cl�nica Universal...|         276081.18|\n",
      "|        3073|FARMACIA NUESTRA ...|         272818.05|\n",
      "|         887|Instituto Centroa...|         269823.42|\n",
      "|        3147| SEDE ADMINISTRATIVA|          265845.0|\n",
      "|        3004|Hospital Universi...|         264982.15|\n",
      "|         552|Farmacia Ciudad C...|         264314.23|\n",
      "|        3157|AREA DE SALUD MOR...|         253589.56|\n",
      "+------------+--------------------+------------------+\n",
      "only showing top 100 rows\n",
      "\n"
     ]
    }
   ],
   "source": [
    "sqlDF = spark.sql(\"SELECT   max(cliente),max(EMBARCAR_A), max(total_factura) FROM df  group by cliente, total_factura order by total_factura desc \" )\n",
    "sqlDF.show(100)"
   ]
  },
  {
   "cell_type": "code",
   "execution_count": null,
   "metadata": {},
   "outputs": [],
   "source": []
  }
 ],
 "metadata": {
  "kernelspec": {
   "display_name": "Python 3",
   "language": "python",
   "name": "python3"
  },
  "language_info": {
   "codemirror_mode": {
    "name": "ipython",
    "version": 3
   },
   "file_extension": ".py",
   "mimetype": "text/x-python",
   "name": "python",
   "nbconvert_exporter": "python",
   "pygments_lexer": "ipython3",
   "version": "3.7.4"
  }
 },
 "nbformat": 4,
 "nbformat_minor": 2
}
